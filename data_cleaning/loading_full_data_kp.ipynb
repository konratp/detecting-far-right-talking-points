{
 "cells": [
  {
   "cell_type": "markdown",
   "id": "c9df3407",
   "metadata": {},
   "source": [
    "# Cleaning and Preprocessing the Full Data Frame"
   ]
  },
  {
   "cell_type": "markdown",
   "id": "92df0674",
   "metadata": {},
   "source": [
    "The data we use for our analysis comes from the [European Parliament Proceedings Parallel Corpus (1996-2011)](https://www.statmt.org/europarl/) and contains all speeches given in the European Parliament between 1996 and 2011, as well as metadata such as a speaker's name, party affiliation, and the date a speech was given. The raw data consists of roughly 10,000 individual `.txt` files that vary quite widely in terms of file structure and organization. For example, some `.txt` files represent only a single contribution by a given MEP, while others contain all contributions made in a whole day. Because the data was collected over many years, there are also some inconsistencies when it comes to what metadata is available -- for example, some `.txt` files contain no party affiliation, and for others the party affiliation is listed under speaker name rather than the appropriate column designating party affiliation. Therefore, this notebook contains extensive cleaning and preprocessing steps necessary in order to transform the raw data into an organized data frame."
   ]
  },
  {
   "cell_type": "markdown",
   "id": "631193b9",
   "metadata": {},
   "source": [
    "## Loading required packages"
   ]
  },
  {
   "cell_type": "code",
   "execution_count": 1,
   "id": "1ca42f4c",
   "metadata": {},
   "outputs": [],
   "source": [
    "#load required packages\n",
    "import pandas as pd\n",
    "import numpy as np\n",
    "import nltk\n",
    "import os\n",
    "import re\n",
    "import string"
   ]
  },
  {
   "cell_type": "markdown",
   "id": "cb39e647",
   "metadata": {},
   "source": [
    "## Properly Loading Data from .txt Files"
   ]
  },
  {
   "cell_type": "markdown",
   "id": "e97796a9",
   "metadata": {},
   "source": [
    "The following cells of code first load all the `.txt` files into a single data frame, as well as clean portions of the data. In order to run the code below, we recommend downloading the re"
   ]
  },
  {
   "cell_type": "code",
   "execution_count": 2,
   "id": "9ad3bdf2",
   "metadata": {},
   "outputs": [],
   "source": [
    "#define functions for extracting data from .txt files\n",
    "\n",
    "def date_extracter(x):\n",
    "    return x.partition('ep-')[2][0:8]#.partition('.txt')[0]\n",
    "\n",
    "def lang_extracter(x):\n",
    "    return x.partition('LANGUAGE=\\\"')[2].partition('\\\"')[0]\n",
    "\n",
    "def contribution_extracter(x):\n",
    "    x = x.partition('>\\n')[2].partition('\\n\\n<')[0]\n",
    "    return x.replace('\\n<P>\\n', ' ')\n",
    "\n",
    "def affiliation_extracter(row):\n",
    "    x = row.partition('AFFILIATION=\"')[2].partition('\"')[0]\n",
    "    y = row.partition('NAME=\"')[2].partition('\"')[0]\n",
    "    if x == \"\":\n",
    "        x = None\n",
    "    if y == \"\":\n",
    "        y = None\n",
    "    return [x, y]\n",
    "\n",
    "def clean_speaker_name(row):\n",
    "    row = row.partition('\"')[0].partition('(')[0].strip()\n",
    "    return row"
   ]
  },
  {
   "cell_type": "code",
   "execution_count": 3,
   "id": "ef32e7ff",
   "metadata": {},
   "outputs": [],
   "source": [
    "#define path to retrieve .txt files\n",
    "path = f\"{os.getcwd()}/raw_data\""
   ]
  },
  {
   "cell_type": "code",
   "execution_count": 4,
   "id": "a896fb81",
   "metadata": {},
   "outputs": [],
   "source": [
    "#load data into corpus dictionary\n",
    "corpus = {}\n",
    "for i in os.listdir(path):\n",
    "    corpus[i] = nltk.data.load(f'{path}/{i}', format='raw')\n",
    "    \n",
    "#transpose corpus\n",
    "corpus = pd.DataFrame.from_dict([corpus]).T\n",
    "\n",
    "#decode data from bytes to strings\n",
    "success_counter = 0\n",
    "failure_counter = 0\n",
    "for index, i in enumerate(corpus[0]):\n",
    "    try:\n",
    "        corpus.iloc[index][0] = i.decode('UTF-8')\n",
    "        success_counter += 1\n",
    "    except UnicodeDecodeError:\n",
    "        corpus.iloc[index][0] = i.decode('ISO-8859-1')\n",
    "        failure_counter += 1\n",
    "    \n",
    "#create date column\n",
    "corpus['txtfile'] = corpus.index\n",
    "corpus['date'] = corpus['txtfile'].apply(date_extracter)\n",
    "corpus['txt'] = corpus[0]\n",
    "corpus = corpus.drop(columns = ['txtfile', 0])"
   ]
  },
  {
   "cell_type": "code",
   "execution_count": 5,
   "id": "abe77ec3",
   "metadata": {},
   "outputs": [
    {
     "data": {
      "text/html": [
       "<div>\n",
       "<style scoped>\n",
       "    .dataframe tbody tr th:only-of-type {\n",
       "        vertical-align: middle;\n",
       "    }\n",
       "\n",
       "    .dataframe tbody tr th {\n",
       "        vertical-align: top;\n",
       "    }\n",
       "\n",
       "    .dataframe thead th {\n",
       "        text-align: right;\n",
       "    }\n",
       "</style>\n",
       "<table border=\"1\" class=\"dataframe\">\n",
       "  <thead>\n",
       "    <tr style=\"text-align: right;\">\n",
       "      <th></th>\n",
       "      <th>date</th>\n",
       "      <th>txt</th>\n",
       "    </tr>\n",
       "  </thead>\n",
       "  <tbody>\n",
       "    <tr>\n",
       "      <th>ep-11-03-08-009-06.txt</th>\n",
       "      <td>11-03-08</td>\n",
       "      <td>&lt;CHAPTER ID=\"009-06\"&gt;\\n6. Innovative financing...</td>\n",
       "    </tr>\n",
       "    <tr>\n",
       "      <th>ep-08-02-20-004-02.txt</th>\n",
       "      <td>08-02-20</td>\n",
       "      <td>&lt;CHAPTER ID=\"004-02\"&gt;\\n2. (\\n</td>\n",
       "    </tr>\n",
       "    <tr>\n",
       "      <th>ep-07-01-17-011.txt</th>\n",
       "      <td>07-01-17</td>\n",
       "      <td>&lt;CHAPTER ID=\"011\"&gt;\\nDevelopment of the Communi...</td>\n",
       "    </tr>\n",
       "    <tr>\n",
       "      <th>ep-10-09-21-015.txt</th>\n",
       "      <td>10-09-21</td>\n",
       "      <td>&lt;CHAPTER ID=\"015\"&gt;\\nInclusion of aviation acti...</td>\n",
       "    </tr>\n",
       "    <tr>\n",
       "      <th>ep-06-04-04.txt</th>\n",
       "      <td>06-04-04</td>\n",
       "      <td>&lt;CHAPTER ID=\"1\"&gt;\\n&lt;SPEAKER ID=\"1\" LANGUAGE=\"\" ...</td>\n",
       "    </tr>\n",
       "    <tr>\n",
       "      <th>...</th>\n",
       "      <td>...</td>\n",
       "      <td>...</td>\n",
       "    </tr>\n",
       "    <tr>\n",
       "      <th>ep-11-01-20-015.txt</th>\n",
       "      <td>11-01-20</td>\n",
       "      <td>&lt;CHAPTER ID=\"015\"&gt;\\nDecisions concerning certa...</td>\n",
       "    </tr>\n",
       "    <tr>\n",
       "      <th>ep-11-05-10-013.txt</th>\n",
       "      <td>11-05-10</td>\n",
       "      <td>&lt;CHAPTER ID=\"013\"&gt;\\nCorrections to votes and v...</td>\n",
       "    </tr>\n",
       "    <tr>\n",
       "      <th>ep-10-09-07-006-16.txt</th>\n",
       "      <td>10-09-07</td>\n",
       "      <td>&lt;CHAPTER ID=\"006-16\"&gt;\\n16. Role of women in an...</td>\n",
       "    </tr>\n",
       "    <tr>\n",
       "      <th>ep-10-11-22-010.txt</th>\n",
       "      <td>10-11-22</td>\n",
       "      <td>&lt;CHAPTER ID=\"010\"&gt;\\nPetitions: see Minutes\\n</td>\n",
       "    </tr>\n",
       "    <tr>\n",
       "      <th>ep-06-10-12-007-25.txt</th>\n",
       "      <td>06-10-12</td>\n",
       "      <td>&lt;CHAPTER ID=\"007-25\"&gt;\\n25. The protection and ...</td>\n",
       "    </tr>\n",
       "  </tbody>\n",
       "</table>\n",
       "<p>9673 rows × 2 columns</p>\n",
       "</div>"
      ],
      "text/plain": [
       "                            date  \\\n",
       "ep-11-03-08-009-06.txt  11-03-08   \n",
       "ep-08-02-20-004-02.txt  08-02-20   \n",
       "ep-07-01-17-011.txt     07-01-17   \n",
       "ep-10-09-21-015.txt     10-09-21   \n",
       "ep-06-04-04.txt         06-04-04   \n",
       "...                          ...   \n",
       "ep-11-01-20-015.txt     11-01-20   \n",
       "ep-11-05-10-013.txt     11-05-10   \n",
       "ep-10-09-07-006-16.txt  10-09-07   \n",
       "ep-10-11-22-010.txt     10-11-22   \n",
       "ep-06-10-12-007-25.txt  06-10-12   \n",
       "\n",
       "                                                                      txt  \n",
       "ep-11-03-08-009-06.txt  <CHAPTER ID=\"009-06\">\\n6. Innovative financing...  \n",
       "ep-08-02-20-004-02.txt                      <CHAPTER ID=\"004-02\">\\n2. (\\n  \n",
       "ep-07-01-17-011.txt     <CHAPTER ID=\"011\">\\nDevelopment of the Communi...  \n",
       "ep-10-09-21-015.txt     <CHAPTER ID=\"015\">\\nInclusion of aviation acti...  \n",
       "ep-06-04-04.txt         <CHAPTER ID=\"1\">\\n<SPEAKER ID=\"1\" LANGUAGE=\"\" ...  \n",
       "...                                                                   ...  \n",
       "ep-11-01-20-015.txt     <CHAPTER ID=\"015\">\\nDecisions concerning certa...  \n",
       "ep-11-05-10-013.txt     <CHAPTER ID=\"013\">\\nCorrections to votes and v...  \n",
       "ep-10-09-07-006-16.txt  <CHAPTER ID=\"006-16\">\\n16. Role of women in an...  \n",
       "ep-10-11-22-010.txt          <CHAPTER ID=\"010\">\\nPetitions: see Minutes\\n  \n",
       "ep-06-10-12-007-25.txt  <CHAPTER ID=\"007-25\">\\n25. The protection and ...  \n",
       "\n",
       "[9673 rows x 2 columns]"
      ]
     },
     "execution_count": 5,
     "metadata": {},
     "output_type": "execute_result"
    }
   ],
   "source": [
    "corpus.head()"
   ]
  },
  {
   "cell_type": "code",
   "execution_count": 6,
   "id": "d9a1870f",
   "metadata": {},
   "outputs": [
    {
     "data": {
      "text/plain": [
       "9672"
      ]
     },
     "execution_count": 6,
     "metadata": {},
     "output_type": "execute_result"
    }
   ],
   "source": [
    "#check how many .txt files use UTF-8 decoding\n",
    "success_counter"
   ]
  },
  {
   "cell_type": "code",
   "execution_count": 7,
   "id": "b5b0ac13",
   "metadata": {},
   "outputs": [
    {
     "data": {
      "text/plain": [
       "1"
      ]
     },
     "execution_count": 7,
     "metadata": {},
     "output_type": "execute_result"
    }
   ],
   "source": [
    "#check how many .txt files use ISO-8859-1 decoding\n",
    "failure_counter"
   ]
  },
  {
   "cell_type": "code",
   "execution_count": 8,
   "id": "b3f25bb9",
   "metadata": {},
   "outputs": [],
   "source": [
    "#loop over every .txt file extracting data and parsing it into a list\n",
    "list_of_dfs = []\n",
    "counter = 0\n",
    "for text in corpus['txt']:\n",
    "    #split the .txt files into lists of chapters\n",
    "    chap_split = text.split(\"<CHAP\")\n",
    "\n",
    "    #remove empty rows\n",
    "    chap_split = [i for i in chap_split if i != '']\n",
    "\n",
    "    #split each chapter into a list of contributions by chapter\n",
    "    spea_split = []\n",
    "    for i in chap_split:\n",
    "        spea_split.append(i.split(\"SPEA\"))\n",
    "\n",
    "    #retrieve chapter ids from each chapter\n",
    "    d = {}\n",
    "    for chapter in spea_split:\n",
    "        #careful: we assume that the chapter title is contained in the first element of the list 'chapter'\n",
    "        d[chapter[0].partition('ID=')[2].partition('>\\n')[0]] = []\n",
    "        for contribution in chapter:\n",
    "            d[chapter[0].partition('ID=')[2].partition('>\\n')[0]].append(contribution)\n",
    "\n",
    "    #retrieve chapter associated with each contribution\n",
    "    entries = []\n",
    "    chapter = []\n",
    "    for i in d:\n",
    "        entries.extend(d[i])\n",
    "        for k in range(len(d[i])):\n",
    "            chapter.append(i)\n",
    "\n",
    "    #map contribution and chapter to a data frame\n",
    "    results = pd.DataFrame({'contribution': entries,'chapter': chapter})\n",
    "\n",
    "    #retrieve dictionary mapping chapter number to chapter titles\n",
    "    chap_titles = {}\n",
    "    for i in results.contribution:\n",
    "        if 'TER ID=' in i:\n",
    "            chap_titles[i.partition('ID=')[2].partition('>\\n')[0]] = i.partition('>\\n')[2].partition('\\n<')[0]\n",
    "\n",
    "    #convert chapter number to string in order to match with chapter title dictionary\n",
    "    results['chapter'] = results['chapter'].astype(str)\n",
    "    results['chapter_title'] = results['chapter'].map(chap_titles)\n",
    "\n",
    "    #subset data frame to only include contributions, not chapters\n",
    "    results = results[results.contribution.str.contains('KER ID')]\n",
    "\n",
    "    #reset index\n",
    "    results = results.reset_index(drop = True)\n",
    "\n",
    "    #retrieve contribution ids and speaker names\n",
    "    sp_id = {}\n",
    "    dict_counter = 1\n",
    "    for i in results.contribution:\n",
    "        if i.partition('KER ID=')[2].partition(' ')[0] not in sp_id:\n",
    "            sp_id[i.partition('KER ID=')[2].partition(' ')[0]] = i.partition('NAME=\\\"')[2].partition('\\\">')[0]\n",
    "        else:\n",
    "            sp_id[f\"{i.partition('KER ID=')[2].partition(' ')[0]}_{dict_counter}\"] = i.partition('NAME=\\\"')[2].partition('\\\">')[0]\n",
    "            dict_counter += 1\n",
    "            \n",
    "    #create column for contribution ids\n",
    "    results['contribution_id'] = sp_id.keys()\n",
    "\n",
    "    #create column for speaker names\n",
    "    results['speaker_name'] = results['contribution_id'].map(sp_id)\n",
    "\n",
    "    #apply data extraction functions defined above\n",
    "\n",
    "    #extract original language a speech was given in\n",
    "    results['language'] = results['contribution'].apply(lang_extracter)\n",
    "\n",
    "    #extract clean text\n",
    "    results['contribution_text'] = results['contribution'].apply(contribution_extracter)\n",
    "\n",
    "    #extract party affiliation\n",
    "    results['party'] = results['contribution'].apply(affiliation_extracter)\n",
    "\n",
    "    #extract date\n",
    "    results['date'] = corpus['date'][counter]\n",
    "\n",
    "    #extract contribution ids\n",
    "\n",
    "    def id_extracter(x):\n",
    "        return f\"{corpus['date'][counter]}-{x}\"\n",
    "\n",
    "    results['contribution_id'] = results['contribution_id'].apply(id_extracter)\n",
    "\n",
    "    #save data frame\n",
    "    list_of_dfs.append(results)\n",
    "\n",
    "    counter += 1"
   ]
  },
  {
   "cell_type": "code",
   "execution_count": 9,
   "id": "c4a8e265",
   "metadata": {},
   "outputs": [],
   "source": [
    "#concatenate individual pandas data frames for each .txt file into one big data frame\n",
    "data = pd.concat(list_of_dfs, ignore_index=True)"
   ]
  },
  {
   "cell_type": "code",
   "execution_count": null,
   "id": "c03c19d2",
   "metadata": {},
   "outputs": [],
   "source": [
    "#create lowercase speaker name column\n",
    "data[\"speaker_name_lower\"] = data[\"speaker_name\"].apply(str.lower)\n",
    "\n",
    "#remove rows containing 'president' as speaker_name_lower\n",
    "data = data[~data[\"speaker_name_lower\"].str.contains('president')]\n",
    "\n",
    "#further clean speaker names\n",
    "data[\"speaker_name_lower\"] = data[\"speaker_name_lower\"].apply(clean_speaker_name)\n",
    "\n",
    "#remove speaker_name_lower where the name ends in a comma\n",
    "for index in data.index:\n",
    "    if data.at[index, 'speaker_name_lower'] == ',':\n",
    "        data.at[index, 'speaker_name_lower'] = data.at[index, 'speaker_name_lower'].replace(',', '')"
   ]
  },
  {
   "cell_type": "markdown",
   "id": "f6bbd4a1",
   "metadata": {},
   "source": [
    "## Assign MEPs to Party and Ideology"
   ]
  },
  {
   "cell_type": "code",
   "execution_count": 13,
   "id": "ec129df0",
   "metadata": {},
   "outputs": [],
   "source": [
    "#load mep dataset\n",
    "mep = pd.read_csv(\"/Users/konratpekkip/Downloads/MEP_dataframe.csv\")"
   ]
  },
  {
   "cell_type": "code",
   "execution_count": 18,
   "id": "29fc900c",
   "metadata": {},
   "outputs": [],
   "source": [
    "def party_separator_1(x):\n",
    "    y = x[0]\n",
    "    return y\n",
    "\n",
    "def party_separator_2(x):\n",
    "    y = x[1]\n",
    "    return y\n",
    "\n",
    "def replace_amp(row):\n",
    "    if type(row[0]) is str:\n",
    "        row[0] = row[0].replace('&amp;', '&')\n",
    "    if type(row[1]) is str:\n",
    "        row[1] = row[1].replace('&amp;', '&')\n",
    "    return row"
   ]
  },
  {
   "cell_type": "code",
   "execution_count": 19,
   "id": "e6c69ea9",
   "metadata": {},
   "outputs": [],
   "source": [
    "data['party'] = data['party'].apply(replace_amp)"
   ]
  },
  {
   "cell_type": "code",
   "execution_count": 20,
   "id": "7738e3d6",
   "metadata": {},
   "outputs": [],
   "source": [
    "data['party_test1'] = data['party'].apply(party_separator_1)\n",
    "data['party_test2'] = data['party'].apply(party_separator_2)"
   ]
  },
  {
   "cell_type": "code",
   "execution_count": 21,
   "id": "45a19b57",
   "metadata": {},
   "outputs": [
    {
     "data": {
      "text/plain": [
       "PPE-DE                           8110\n",
       "PPE                              6761\n",
       "PSE                              5965\n",
       "S&D                              5196\n",
       "in writing                       4069\n",
       "ALDE                             3776\n",
       "NI                               3237\n",
       "GUE/NGL                          2193\n",
       "Verts/ALE                        2158\n",
       "UEN                              1295\n",
       "Member of the Commission         1254\n",
       "ECR                              1229\n",
       "in writing.                      1109\n",
       "EFD                               947\n",
       "(Applause)                        936\n",
       "IND/DEM                           902\n",
       "Commission                        850\n",
       "rapporteur                        819\n",
       "on behalf of the PPE-DE Group     487\n",
       "on behalf of the PSE Group        456\n",
       "Name: party_test1, dtype: int64"
      ]
     },
     "execution_count": 21,
     "metadata": {},
     "output_type": "execute_result"
    }
   ],
   "source": [
    "data['party_test1'].value_counts()[:20]"
   ]
  },
  {
   "cell_type": "code",
   "execution_count": 23,
   "id": "37daf840",
   "metadata": {},
   "outputs": [],
   "source": [
    "list_of_parties = ['PPE-DE', \n",
    "                   'PPE', \n",
    "                   'PSE', \n",
    "                   'S&D', \n",
    "                   'ALDE', \n",
    "                   'NI', \n",
    "                   'GUE/NGL', \n",
    "                   'Verts/ALE', \n",
    "                   'UEN', \n",
    "                   'ECR', \n",
    "                   'EFD', \n",
    "                   'IND/DEM',\n",
    "                   'G/EFA',\n",
    "                   'EUL/NGL',\n",
    "                   'EPP',\n",
    "                   'EPP-ED',\n",
    "                   'NI/EFD']"
   ]
  },
  {
   "cell_type": "code",
   "execution_count": 24,
   "id": "84b6d2f0",
   "metadata": {},
   "outputs": [],
   "source": [
    "#assign only clean party to party column\n",
    "for index, row in enumerate(data['party_test1']):\n",
    "    if type(row) is str:\n",
    "        for party in list_of_parties:\n",
    "            if party in row:\n",
    "                data.iloc[index]['party'] = party\n",
    "                \n",
    "for index, row in enumerate(data['party_test2']):\n",
    "    if type(row) is str:\n",
    "        for party in list_of_parties:\n",
    "            if party in row:\n",
    "                data.iloc[index]['party'] = party"
   ]
  },
  {
   "cell_type": "code",
   "execution_count": 25,
   "id": "89619b0d",
   "metadata": {},
   "outputs": [],
   "source": [
    "#count how many good rows vs bad rows we have\n",
    "\n",
    "badcount = 0\n",
    "goodcount = 0\n",
    "\n",
    "for i in data['party']:\n",
    "    if type(i) is list:\n",
    "        badcount += 1\n",
    "    if type(i) is str:\n",
    "        goodcount += 1"
   ]
  },
  {
   "cell_type": "code",
   "execution_count": 26,
   "id": "ea1ee38a",
   "metadata": {},
   "outputs": [
    {
     "data": {
      "text/plain": [
       "76915"
      ]
     },
     "execution_count": 26,
     "metadata": {},
     "output_type": "execute_result"
    }
   ],
   "source": [
    "goodcount"
   ]
  },
  {
   "cell_type": "code",
   "execution_count": 27,
   "id": "d1fa73d3",
   "metadata": {},
   "outputs": [
    {
     "data": {
      "text/plain": [
       "103172"
      ]
     },
     "execution_count": 27,
     "metadata": {},
     "output_type": "execute_result"
    }
   ],
   "source": [
    "badcount"
   ]
  },
  {
   "cell_type": "code",
   "execution_count": 28,
   "id": "380ed8d5",
   "metadata": {},
   "outputs": [],
   "source": [
    "#assign labels to rows where party is clean vs not clean\n",
    "data['party_confirmed'] = 0\n",
    "for i in data.index:\n",
    "    if type(data.at[i, 'party']) is list:\n",
    "        data.at[i, 'party_confirmed'] = 0\n",
    "    elif type(data.at[i, 'party']) is str:\n",
    "        data.at[i, 'party_confirmed'] = 1"
   ]
  },
  {
   "cell_type": "code",
   "execution_count": 29,
   "id": "e6b54f9c",
   "metadata": {},
   "outputs": [],
   "source": [
    "#extract rows from data frame that are ready to be used already and store them as good_data\n",
    "bad_data = data[data['party_confirmed'] == 0]\n",
    "good_data = data[data['party_confirmed'] == 1]"
   ]
  },
  {
   "cell_type": "code",
   "execution_count": 31,
   "id": "ff330505",
   "metadata": {},
   "outputs": [],
   "source": [
    "#reset index to remove index numbers from removed 'good data' rows\n",
    "bad_data.reset_index(inplace = True, drop=True)"
   ]
  },
  {
   "cell_type": "code",
   "execution_count": 32,
   "id": "3106e589",
   "metadata": {},
   "outputs": [],
   "source": [
    "#remove rows without names\n",
    "bad_data = bad_data[bad_data[\"speaker_name_lower\"] != '']"
   ]
  },
  {
   "cell_type": "code",
   "execution_count": 34,
   "id": "5a75028b",
   "metadata": {},
   "outputs": [],
   "source": [
    "#create column for lowercase versions of full mep names\n",
    "mep['full_name_lower'] = mep['full_name'].apply(str.lower)"
   ]
  },
  {
   "cell_type": "code",
   "execution_count": 36,
   "id": "a0e33ebd",
   "metadata": {},
   "outputs": [],
   "source": [
    "data['party_confirmed'] = 0\n",
    "for i in data.index:\n",
    "    if type(data.at[i, 'party']) is list:\n",
    "        data.at[i, 'party_confirmed'] = 0\n",
    "    elif type(data.at[i, 'party']) is str:\n",
    "        data.at[i, 'party_confirmed'] = 1"
   ]
  },
  {
   "cell_type": "code",
   "execution_count": 37,
   "id": "c5761439",
   "metadata": {},
   "outputs": [],
   "source": [
    "for index in bad_data.index:\n",
    "    if bad_data.at[index, 'speaker_name_lower'] == ',':\n",
    "        bad_data.at[index, 'speaker_name_lower'] = bad_data.at[index, 'speaker_name_lower'].replace(',', '')"
   ]
  },
  {
   "cell_type": "code",
   "execution_count": 38,
   "id": "979d74c1",
   "metadata": {},
   "outputs": [],
   "source": [
    "bad_data['match'] = 0\n",
    "for index in bad_data.index:\n",
    "    name = bad_data.at[index, 'speaker_name_lower']\n",
    "    for mep_name in mep['full_name_lower']:\n",
    "        if mep_name in name:\n",
    "            bad_data.at[index, 'match'] = 1\n",
    "        elif name in mep_name:\n",
    "            bad_data.at[index, 'match'] = 1"
   ]
  },
  {
   "cell_type": "code",
   "execution_count": 40,
   "id": "fee4b3a6",
   "metadata": {},
   "outputs": [],
   "source": [
    "matching_data = bad_data[bad_data['match'] == 1]"
   ]
  },
  {
   "cell_type": "code",
   "execution_count": 42,
   "id": "95adadbe",
   "metadata": {},
   "outputs": [
    {
     "data": {
      "text/plain": [
       "142656"
      ]
     },
     "execution_count": 42,
     "metadata": {},
     "output_type": "execute_result"
    }
   ],
   "source": [
    "goodcount + len(matching_data)"
   ]
  },
  {
   "cell_type": "code",
   "execution_count": 43,
   "id": "1f90663a",
   "metadata": {},
   "outputs": [
    {
     "data": {
      "text/plain": [
       "37431"
      ]
     },
     "execution_count": 43,
     "metadata": {},
     "output_type": "execute_result"
    }
   ],
   "source": [
    "badcount - len(matching_data)"
   ]
  },
  {
   "cell_type": "code",
   "execution_count": 44,
   "id": "7d457a45",
   "metadata": {},
   "outputs": [],
   "source": [
    "#define a dictionary that maps a binary variable onto far-right vs non-far-right people\n",
    "party_dictionary = {}\n",
    "\n",
    "far_right_parties = ['UEN', 'EFD', 'NI', 'ECR', 'IND/DEM', 'NI/EFD']\n",
    "not_far_right_parties = ['PPE-DE', 'PPE', 'PSE', 'S&D', 'ALDE', 'GUE/NGL', 'Verts/ALE', 'G/EFA', 'EUL/NGL', 'EPP', 'EPP-ED']\n",
    "\n",
    "for i in list_of_parties:\n",
    "    if i in far_right_parties:\n",
    "        party_dictionary[i] = 1\n",
    "    elif i in not_far_right_parties:\n",
    "        party_dictionary[i] = 0"
   ]
  },
  {
   "cell_type": "code",
   "execution_count": 45,
   "id": "3d531bb6",
   "metadata": {},
   "outputs": [
    {
     "data": {
      "text/plain": [
       "{'PPE-DE': 0,\n",
       " 'PPE': 0,\n",
       " 'PSE': 0,\n",
       " 'S&D': 0,\n",
       " 'ALDE': 0,\n",
       " 'NI': 1,\n",
       " 'GUE/NGL': 0,\n",
       " 'Verts/ALE': 0,\n",
       " 'UEN': 1,\n",
       " 'ECR': 1,\n",
       " 'EFD': 1,\n",
       " 'IND/DEM': 1,\n",
       " 'G/EFA': 0,\n",
       " 'EUL/NGL': 0,\n",
       " 'EPP': 0,\n",
       " 'EPP-ED': 0,\n",
       " 'NI/EFD': 1}"
      ]
     },
     "execution_count": 45,
     "metadata": {},
     "output_type": "execute_result"
    }
   ],
   "source": [
    "party_dictionary"
   ]
  },
  {
   "cell_type": "code",
   "execution_count": 46,
   "id": "bec395ce",
   "metadata": {},
   "outputs": [
    {
     "name": "stderr",
     "output_type": "stream",
     "text": [
      "/var/folders/k7/w1b25s3n1md_4_385_qc_rqc0000gn/T/ipykernel_3753/1997053228.py:2: SettingWithCopyWarning: \n",
      "A value is trying to be set on a copy of a slice from a DataFrame.\n",
      "Try using .loc[row_indexer,col_indexer] = value instead\n",
      "\n",
      "See the caveats in the documentation: https://pandas.pydata.org/pandas-docs/stable/user_guide/indexing.html#returning-a-view-versus-a-copy\n",
      "  good_data['far_right'] = [party_dictionary[x] for x in good_data['party']]\n"
     ]
    }
   ],
   "source": [
    "#assign binary outcome to far-right and non-far-right parties   \n",
    "good_data['far_right'] = [party_dictionary[x] for x in good_data['party']]"
   ]
  },
  {
   "cell_type": "code",
   "execution_count": null,
   "id": "5595927e",
   "metadata": {},
   "outputs": [],
   "source": [
    "#save good and bad data sets as csv files\n",
    "#good_data.to_csv(\"good_data.csv\")\n",
    "#bad_data.to_csv(\"bad_data.csv\")"
   ]
  },
  {
   "cell_type": "code",
   "execution_count": 47,
   "id": "4a15874c",
   "metadata": {},
   "outputs": [],
   "source": [
    "matching_data.reset_index(drop = True, inplace = True)"
   ]
  },
  {
   "cell_type": "code",
   "execution_count": 52,
   "id": "334dc412",
   "metadata": {},
   "outputs": [],
   "source": [
    "#create subset of mep data frame for matching speaker_names in both matching_data and mep data frames\n",
    "merge_mep = mep[['far_right', 'full_name_lower', 'epg_names', 'epg_code']]\n",
    "merge_mep = merge_mep.drop_duplicates(['full_name_lower']).reset_index(drop=True)\n",
    "merge_mep[\"full_name_lower\"] = merge_mep[\"full_name_lower\"].apply(clean_speaker_name)"
   ]
  },
  {
   "cell_type": "code",
   "execution_count": 98,
   "id": "e3b24dc8",
   "metadata": {},
   "outputs": [],
   "source": [
    "#grab european party group from merge_mep dataframe to match speaker_names in matching_data with party assignment\n",
    "#this takes a HOT MINUTE to run so do this sparingly\n",
    "\n",
    "matching_data['party_from_mep'] = 'to be filled'\n",
    "\n",
    "for index in matching_data.index:\n",
    "    try:\n",
    "        name = matching_data.at[index, 'speaker_name_lower']\n",
    "    except:\n",
    "        pass\n",
    "    for index_2 in range(len(merge_mep)):#merge_mep.index:\n",
    "        try:\n",
    "            if merge_mep.at[index_2, 'full_name_lower'] in name:\n",
    "                matching_data.at[index, 'party_from_mep'] = merge_mep.at[index_2, 'epg_names']\n",
    "            elif name in merge_mep.at[index_2, 'full_name_lower']:\n",
    "                matching_data.at[index, 'party_from_mep'] = merge_mep.at[index_2, 'epg_names']\n",
    "        except:\n",
    "            pass"
   ]
  },
  {
   "cell_type": "code",
   "execution_count": 113,
   "id": "a198d3d4",
   "metadata": {},
   "outputs": [],
   "source": [
    "#define which parties are far right\n",
    "\n",
    "epg_far_right_parties = ['The European Conservatives and Reformists Group',\n",
    "                         'Europe of Freedom and Democracy',\n",
    "                         'Non-Inscrits',\n",
    "                         \"['Progressive European Democrats', 'European Democratic Alliance', 'Union for Europe', 'Union for a Europe of Nations']\",\n",
    "                         \"['Technical Coordination of Democrats and Independents', 'Rainbow Group', 'European Radical Alliance']\",\n",
    "                         \"['Independents for a European of Nations', 'Europe of Democracies and Diversities']\",\n",
    "                         \"['Technical Coordination of Democrats and Independents', 'Non-attached', 'Technical Group of Independents']\",\n",
    "                         'Independence/Democracy',\n",
    "                         'Non-Inscrits / Europe of Freedom and Democracy']\n",
    "\n",
    "\n",
    "\n",
    "epg_not_far_right_parties = [\"European People's Party Group\",\n",
    "                             'The Progressive Alliance of Socialists and Democrats',\n",
    "                             'Alliance of Liberals and Democrats for Europe Party',\n",
    "                             'The Greens/European Free Alliance',\n",
    "                             'The Left in the European Parliament',\n",
    "                             \"['Socialist Group', 'Party of European Socialists']\",\n",
    "                             \"['Communist Group', 'European United Left/Nordic Green Left', 'European United Left']\",\n",
    "                             '[\"European People\\'s Party\", \"European People\\'s Party-European Democrats\"]',\n",
    "                             \"['Liberal and Democratic Group', 'Liberal Democratic and Reform Group', 'European Liberal Democratic and Reform Party']\",\n",
    "                             \"['Green Group', 'Greens/European Free Alliance']\",\n",
    "                             'SOC',\n",
    "                             \"European People's Party Group and European Democrats\"]\n",
    "\n",
    "all_parties = epg_far_right_parties + epg_not_far_right_parties"
   ]
  },
  {
   "cell_type": "code",
   "execution_count": 137,
   "id": "6fa9e849",
   "metadata": {},
   "outputs": [],
   "source": [
    "#create dictionary of ep parties and ideological affiliation\n",
    "\n",
    "party_dictionary_2 = {}\n",
    "\n",
    "for i in all_parties:\n",
    "    if i in epg_not_far_right_parties:\n",
    "        party_dictionary_2[i] = 0\n",
    "    if i in epg_far_right_parties:\n",
    "        party_dictionary_2[i] = 1"
   ]
  },
  {
   "cell_type": "code",
   "execution_count": 139,
   "id": "bcc6e597",
   "metadata": {},
   "outputs": [
    {
     "name": "stderr",
     "output_type": "stream",
     "text": [
      "/var/folders/k7/w1b25s3n1md_4_385_qc_rqc0000gn/T/ipykernel_3753/3356286057.py:1: SettingWithCopyWarning: \n",
      "A value is trying to be set on a copy of a slice from a DataFrame.\n",
      "Try using .loc[row_indexer,col_indexer] = value instead\n",
      "\n",
      "See the caveats in the documentation: https://pandas.pydata.org/pandas-docs/stable/user_guide/indexing.html#returning-a-view-versus-a-copy\n",
      "  matching_data['far_right'] = [party_dictionary_2[x] for x in matching_data['party_from_mep']]\n"
     ]
    }
   ],
   "source": [
    "#create binary far_right column based on dictionary defined above\n",
    "matching_data['far_right'] = [party_dictionary_2[x] for x in matching_data['party_from_mep']]"
   ]
  },
  {
   "cell_type": "code",
   "execution_count": 153,
   "id": "6c3b0bfb",
   "metadata": {},
   "outputs": [],
   "source": [
    "#extract relevant columns for merging good_data and matching_data dfs\n",
    "good_data_premerge = good_data[['contribution', 'chapter', 'chapter_title', 'contribution_id', 'speaker_name_lower', 'contribution_text', 'date', 'party', 'language', 'far_right']]\n",
    "matching_data_premerge = matching_data[['contribution', 'chapter', 'chapter_title', 'contribution_id', 'speaker_name_lower', 'contribution_text', 'date', 'party_from_mep', 'language', 'far_right']]\n",
    "\n",
    "#rename party_from_mep to be party in matching_data\n",
    "matching_data_premerge.rename(columns = {'party_from_mep':'party'}, inplace = True)"
   ]
  },
  {
   "cell_type": "code",
   "execution_count": 171,
   "id": "06b25433",
   "metadata": {},
   "outputs": [],
   "source": [
    "#concatenate matching_data_premerge and good_data_premerge\n",
    "final_data_list = [good_data_premerge, matching_data_premerge]\n",
    "final_data = pd.concat(final_data_list, ignore_index=True)"
   ]
  },
  {
   "cell_type": "code",
   "execution_count": 177,
   "id": "48936e08",
   "metadata": {},
   "outputs": [],
   "source": [
    "#uncomment the next line to save final data to csv\n",
    "#final_data.to_csv(\"final_data.csv\")"
   ]
  },
  {
   "cell_type": "code",
   "execution_count": 178,
   "id": "1413c5d8",
   "metadata": {},
   "outputs": [],
   "source": [
    "test = final_data[final_data['far_right'] == 1]"
   ]
  },
  {
   "cell_type": "code",
   "execution_count": 179,
   "id": "3f493492",
   "metadata": {},
   "outputs": [
    {
     "data": {
      "text/html": [
       "<div>\n",
       "<style scoped>\n",
       "    .dataframe tbody tr th:only-of-type {\n",
       "        vertical-align: middle;\n",
       "    }\n",
       "\n",
       "    .dataframe tbody tr th {\n",
       "        vertical-align: top;\n",
       "    }\n",
       "\n",
       "    .dataframe thead th {\n",
       "        text-align: right;\n",
       "    }\n",
       "</style>\n",
       "<table border=\"1\" class=\"dataframe\">\n",
       "  <thead>\n",
       "    <tr style=\"text-align: right;\">\n",
       "      <th></th>\n",
       "      <th>contribution</th>\n",
       "      <th>chapter</th>\n",
       "      <th>chapter_title</th>\n",
       "      <th>contribution_id</th>\n",
       "      <th>speaker_name_lower</th>\n",
       "      <th>contribution_text</th>\n",
       "      <th>date</th>\n",
       "      <th>party</th>\n",
       "      <th>language</th>\n",
       "      <th>far_right</th>\n",
       "    </tr>\n",
       "  </thead>\n",
       "  <tbody>\n",
       "    <tr>\n",
       "      <th>27</th>\n",
       "      <td>KER ID=\"751\" NAME=\"Jaroslav Paška\" AFFILIATION...</td>\n",
       "      <td>\"015\"</td>\n",
       "      <td>Inclusion of aviation activities in the scheme...</td>\n",
       "      <td>10-09-21-\"751\"</td>\n",
       "      <td>jaroslav paška</td>\n",
       "      <td>(SK) I agree that reductions of emissions must...</td>\n",
       "      <td>10-09-21</td>\n",
       "      <td>EFD</td>\n",
       "      <td></td>\n",
       "      <td>1</td>\n",
       "    </tr>\n",
       "    <tr>\n",
       "      <th>40</th>\n",
       "      <td>KER ID=\"24\" LANGUAGE=\"\" NAME=\"Eoin Ryan,\" AFFI...</td>\n",
       "      <td>\"1\"</td>\n",
       "      <td>&lt;</td>\n",
       "      <td>06-04-04-\"24\"</td>\n",
       "      <td>eoin ryan,</td>\n",
       "      <td>&lt;P&gt;\\n   . Mr President, the broad economic pol...</td>\n",
       "      <td>06-04-04</td>\n",
       "      <td>UEN</td>\n",
       "      <td></td>\n",
       "      <td>1</td>\n",
       "    </tr>\n",
       "    <tr>\n",
       "      <th>41</th>\n",
       "      <td>KER ID=\"25\" LANGUAGE=\"\" NAME=\"Derek Roland Cla...</td>\n",
       "      <td>\"1\"</td>\n",
       "      <td>&lt;</td>\n",
       "      <td>06-04-04-\"25\"</td>\n",
       "      <td>derek roland clark,</td>\n",
       "      <td>&lt;P&gt;\\n   . Mr President, the report on employme...</td>\n",
       "      <td>06-04-04</td>\n",
       "      <td>IND/DEM</td>\n",
       "      <td></td>\n",
       "      <td>1</td>\n",
       "    </tr>\n",
       "    <tr>\n",
       "      <th>42</th>\n",
       "      <td>KER ID=\"26\" LANGUAGE=\"CS\" NAME=\"Jana Bobošíkov...</td>\n",
       "      <td>\"1\"</td>\n",
       "      <td>&lt;</td>\n",
       "      <td>06-04-04-\"26\"</td>\n",
       "      <td>jana bobošíková</td>\n",
       "      <td>&lt;P&gt;\\n   The reports under discussion today fin...</td>\n",
       "      <td>06-04-04</td>\n",
       "      <td>NI</td>\n",
       "      <td>CS</td>\n",
       "      <td>1</td>\n",
       "    </tr>\n",
       "    <tr>\n",
       "      <th>47</th>\n",
       "      <td>KER ID=\"31\" LANGUAGE=\"LV\" NAME=\"Guntars Krasts...</td>\n",
       "      <td>\"1\"</td>\n",
       "      <td>&lt;</td>\n",
       "      <td>06-04-04-\"31\"</td>\n",
       "      <td>guntars krasts</td>\n",
       "      <td>&lt;P&gt;\\n   Thank you, Mr President. First of all ...</td>\n",
       "      <td>06-04-04</td>\n",
       "      <td>UEN</td>\n",
       "      <td>LV</td>\n",
       "      <td>1</td>\n",
       "    </tr>\n",
       "    <tr>\n",
       "      <th>...</th>\n",
       "      <td>...</td>\n",
       "      <td>...</td>\n",
       "      <td>...</td>\n",
       "      <td>...</td>\n",
       "      <td>...</td>\n",
       "      <td>...</td>\n",
       "      <td>...</td>\n",
       "      <td>...</td>\n",
       "      <td>...</td>\n",
       "      <td>...</td>\n",
       "    </tr>\n",
       "    <tr>\n",
       "      <th>142634</th>\n",
       "      <td>KER ID=219 NAME=\"Scarbonchi\"&gt;\\nArticles 85 and...</td>\n",
       "      <td>8</td>\n",
       "      <td>Competition in the air traffic sector</td>\n",
       "      <td>98-05-14-219</td>\n",
       "      <td>scarbonchi</td>\n",
       "      <td>Articles 85 and 86 of the Treaty of Rome provi...</td>\n",
       "      <td>98-05-14</td>\n",
       "      <td>['Technical Coordination of Democrats and Inde...</td>\n",
       "      <td></td>\n",
       "      <td>1</td>\n",
       "    </tr>\n",
       "    <tr>\n",
       "      <th>142635</th>\n",
       "      <td>KER ID=220 NAME=\"Ribeiro\"&gt;\\nMr President, bein...</td>\n",
       "      <td>8</td>\n",
       "      <td>Competition in the air traffic sector</td>\n",
       "      <td>98-05-14-220</td>\n",
       "      <td>ribeiro</td>\n",
       "      <td>Mr President, being responsible for the opinio...</td>\n",
       "      <td>98-05-14</td>\n",
       "      <td>['Progressive European Democrats', 'European D...</td>\n",
       "      <td></td>\n",
       "      <td>1</td>\n",
       "    </tr>\n",
       "    <tr>\n",
       "      <th>142638</th>\n",
       "      <td>KER ID=223 LANGUAGE=\"DE\" NAME=\"Lukas\"&gt;\\nMr Pre...</td>\n",
       "      <td>8</td>\n",
       "      <td>Competition in the air traffic sector</td>\n",
       "      <td>98-05-14-223</td>\n",
       "      <td>lukas</td>\n",
       "      <td>Mr President, the European Commission, when lo...</td>\n",
       "      <td>98-05-14</td>\n",
       "      <td>['Technical Coordination of Democrats and Inde...</td>\n",
       "      <td>DE</td>\n",
       "      <td>1</td>\n",
       "    </tr>\n",
       "    <tr>\n",
       "      <th>142648</th>\n",
       "      <td>KER ID=241 LANGUAGE=\"FR\" NAME=\"Barthet-Mayer\"&gt;...</td>\n",
       "      <td>10</td>\n",
       "      <td>Marketing of seeds - Implementation of Regulat...</td>\n",
       "      <td>98-05-14-241</td>\n",
       "      <td>barthet-mayer</td>\n",
       "      <td>Madam President, Commissioner, ladies and gent...</td>\n",
       "      <td>98-05-14</td>\n",
       "      <td>['Technical Coordination of Democrats and Inde...</td>\n",
       "      <td>FR</td>\n",
       "      <td>1</td>\n",
       "    </tr>\n",
       "    <tr>\n",
       "      <th>142649</th>\n",
       "      <td>KER ID=242 NAME=\"Nicholson\"&gt;\\nMadam President,...</td>\n",
       "      <td>10</td>\n",
       "      <td>Marketing of seeds - Implementation of Regulat...</td>\n",
       "      <td>98-05-14-242</td>\n",
       "      <td>nicholson</td>\n",
       "      <td>Madam President, I wish to begin by congratula...</td>\n",
       "      <td>98-05-14</td>\n",
       "      <td>The European Conservatives and Reformists Group</td>\n",
       "      <td></td>\n",
       "      <td>1</td>\n",
       "    </tr>\n",
       "  </tbody>\n",
       "</table>\n",
       "<p>24974 rows × 10 columns</p>\n",
       "</div>"
      ],
      "text/plain": [
       "                                             contribution chapter  \\\n",
       "27      KER ID=\"751\" NAME=\"Jaroslav Paška\" AFFILIATION...   \"015\"   \n",
       "40      KER ID=\"24\" LANGUAGE=\"\" NAME=\"Eoin Ryan,\" AFFI...     \"1\"   \n",
       "41      KER ID=\"25\" LANGUAGE=\"\" NAME=\"Derek Roland Cla...     \"1\"   \n",
       "42      KER ID=\"26\" LANGUAGE=\"CS\" NAME=\"Jana Bobošíkov...     \"1\"   \n",
       "47      KER ID=\"31\" LANGUAGE=\"LV\" NAME=\"Guntars Krasts...     \"1\"   \n",
       "...                                                   ...     ...   \n",
       "142634  KER ID=219 NAME=\"Scarbonchi\">\\nArticles 85 and...       8   \n",
       "142635  KER ID=220 NAME=\"Ribeiro\">\\nMr President, bein...       8   \n",
       "142638  KER ID=223 LANGUAGE=\"DE\" NAME=\"Lukas\">\\nMr Pre...       8   \n",
       "142648  KER ID=241 LANGUAGE=\"FR\" NAME=\"Barthet-Mayer\">...      10   \n",
       "142649  KER ID=242 NAME=\"Nicholson\">\\nMadam President,...      10   \n",
       "\n",
       "                                            chapter_title contribution_id  \\\n",
       "27      Inclusion of aviation activities in the scheme...  10-09-21-\"751\"   \n",
       "40                                                      <   06-04-04-\"24\"   \n",
       "41                                                      <   06-04-04-\"25\"   \n",
       "42                                                      <   06-04-04-\"26\"   \n",
       "47                                                      <   06-04-04-\"31\"   \n",
       "...                                                   ...             ...   \n",
       "142634              Competition in the air traffic sector    98-05-14-219   \n",
       "142635              Competition in the air traffic sector    98-05-14-220   \n",
       "142638              Competition in the air traffic sector    98-05-14-223   \n",
       "142648  Marketing of seeds - Implementation of Regulat...    98-05-14-241   \n",
       "142649  Marketing of seeds - Implementation of Regulat...    98-05-14-242   \n",
       "\n",
       "         speaker_name_lower  \\\n",
       "27           jaroslav paška   \n",
       "40               eoin ryan,   \n",
       "41      derek roland clark,   \n",
       "42          jana bobošíková   \n",
       "47           guntars krasts   \n",
       "...                     ...   \n",
       "142634           scarbonchi   \n",
       "142635              ribeiro   \n",
       "142638                lukas   \n",
       "142648        barthet-mayer   \n",
       "142649            nicholson   \n",
       "\n",
       "                                        contribution_text      date  \\\n",
       "27      (SK) I agree that reductions of emissions must...  10-09-21   \n",
       "40      <P>\\n   . Mr President, the broad economic pol...  06-04-04   \n",
       "41      <P>\\n   . Mr President, the report on employme...  06-04-04   \n",
       "42      <P>\\n   The reports under discussion today fin...  06-04-04   \n",
       "47      <P>\\n   Thank you, Mr President. First of all ...  06-04-04   \n",
       "...                                                   ...       ...   \n",
       "142634  Articles 85 and 86 of the Treaty of Rome provi...  98-05-14   \n",
       "142635  Mr President, being responsible for the opinio...  98-05-14   \n",
       "142638  Mr President, the European Commission, when lo...  98-05-14   \n",
       "142648  Madam President, Commissioner, ladies and gent...  98-05-14   \n",
       "142649  Madam President, I wish to begin by congratula...  98-05-14   \n",
       "\n",
       "                                                    party language  far_right  \n",
       "27                                                    EFD                   1  \n",
       "40                                                    UEN                   1  \n",
       "41                                                IND/DEM                   1  \n",
       "42                                                     NI       CS          1  \n",
       "47                                                    UEN       LV          1  \n",
       "...                                                   ...      ...        ...  \n",
       "142634  ['Technical Coordination of Democrats and Inde...                   1  \n",
       "142635  ['Progressive European Democrats', 'European D...                   1  \n",
       "142638  ['Technical Coordination of Democrats and Inde...       DE          1  \n",
       "142648  ['Technical Coordination of Democrats and Inde...       FR          1  \n",
       "142649    The European Conservatives and Reformists Group                   1  \n",
       "\n",
       "[24974 rows x 10 columns]"
      ]
     },
     "execution_count": 179,
     "metadata": {},
     "output_type": "execute_result"
    }
   ],
   "source": [
    "test"
   ]
  },
  {
   "cell_type": "code",
   "execution_count": 180,
   "id": "5d567d72",
   "metadata": {},
   "outputs": [
    {
     "data": {
      "text/plain": [
       "0.1750644908030507"
      ]
     },
     "execution_count": 180,
     "metadata": {},
     "output_type": "execute_result"
    }
   ],
   "source": [
    "len(test) / len(final_data)"
   ]
  },
  {
   "cell_type": "code",
   "execution_count": 182,
   "id": "75d61c8b",
   "metadata": {},
   "outputs": [
    {
     "data": {
      "text/plain": [
       "\"(PT) Once again, the majority in Parliament is trying to speed up the liberalisation and privatisation of rail passenger transport by seeking to broaden the scope of the proposed directive not only to international passenger transport, and by as early as 2010, but also to national passenger transport by 2017. Its aim is to deliver the most profitable lines into the hands of the large private economic operators by privatising services, specifically by means of public-private partnerships, thereby fostering, as has happened in other sectors, the formation of monopolies whose aim is profit. These monopolies often receive outlandish amounts of public funding, regardless of the interests and needs of each country and its people. In Portugal, experience has shown that, following the implementation of such a policy, public rail transport services have deteriorated, thereby hampering people's mobility. The policy has led to higher ticket prices, to the removal of hundreds of kilometres of the rail network, to the closure of stations and to a reduction in passenger numbers and in service quality. Furthermore, fewer people are working in the rail sector, and there has been an onslaught on salaries and workers' rights. This is a policy to which the workers and the general public alike are opposed. We have therefore tabled a proposal to reject this directive, explained in general terms in the minority opinion in this report.\\n<\""
      ]
     },
     "execution_count": 182,
     "metadata": {},
     "output_type": "execute_result"
    }
   ],
   "source": [
    "final_data.iloc[4].contribution_text"
   ]
  },
  {
   "cell_type": "code",
   "execution_count": null,
   "id": "f8588e1d",
   "metadata": {},
   "outputs": [],
   "source": []
  }
 ],
 "metadata": {
  "kernelspec": {
   "display_name": "Python 3 (ipykernel)",
   "language": "python",
   "name": "python3"
  },
  "language_info": {
   "codemirror_mode": {
    "name": "ipython",
    "version": 3
   },
   "file_extension": ".py",
   "mimetype": "text/x-python",
   "name": "python",
   "nbconvert_exporter": "python",
   "pygments_lexer": "ipython3",
   "version": "3.10.6"
  },
  "toc": {
   "base_numbering": 1,
   "nav_menu": {},
   "number_sections": true,
   "sideBar": true,
   "skip_h1_title": false,
   "title_cell": "Table of Contents",
   "title_sidebar": "Contents",
   "toc_cell": false,
   "toc_position": {},
   "toc_section_display": true,
   "toc_window_display": false
  },
  "vscode": {
   "interpreter": {
    "hash": "0066c37e068dceb6f1a50e0e79086045cdc274b862c19f55e7d142808726f729"
   }
  }
 },
 "nbformat": 4,
 "nbformat_minor": 5
}
