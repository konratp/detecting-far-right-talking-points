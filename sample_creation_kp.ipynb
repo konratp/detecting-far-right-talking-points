{
 "cells": [
  {
   "cell_type": "markdown",
   "id": "b5dcc49c",
   "metadata": {},
   "source": [
    "# Ideas behind Sampling:\n",
    "\n",
    "In this notebook, we try three different approaches to creating a training set with which we will train our deep learning model. First, we downsample the data frame to counter an imbalance that can be found in the data. Second, we use an upsampling strategy, essentially creating copies of observations that are in the minority class. Finally, we artificially create a new training set by splitting each observation into sentences and rearranging observations at shorter lengths."
   ]
  },
  {
   "cell_type": "code",
   "execution_count": 1,
   "id": "7d88d646",
   "metadata": {},
   "outputs": [],
   "source": [
    "#load packages\n",
    "import pandas as pd\n",
    "import numpy as np\n",
    "import os\n",
    "import random\n",
    "import nltk\n",
    "from sklearn.model_selection import train_test_split"
   ]
  },
  {
   "cell_type": "code",
   "execution_count": 4,
   "id": "b3427846",
   "metadata": {},
   "outputs": [],
   "source": [
    "#read in data frame\n",
    "path = f\"{os.getcwd()}\"\n",
    "path = \"/Users/konratpekkip/Desktop/Detecting-Far-Right-Talking-Points/raw_data/clean_data\"\n",
    "data = pd.read_csv(f\"{path}/final_data.csv\", index_col = [0])"
   ]
  },
  {
   "cell_type": "code",
   "execution_count": 5,
   "id": "17d8abc3",
   "metadata": {},
   "outputs": [
    {
     "data": {
      "text/html": [
       "<div>\n",
       "<style scoped>\n",
       "    .dataframe tbody tr th:only-of-type {\n",
       "        vertical-align: middle;\n",
       "    }\n",
       "\n",
       "    .dataframe tbody tr th {\n",
       "        vertical-align: top;\n",
       "    }\n",
       "\n",
       "    .dataframe thead th {\n",
       "        text-align: right;\n",
       "    }\n",
       "</style>\n",
       "<table border=\"1\" class=\"dataframe\">\n",
       "  <thead>\n",
       "    <tr style=\"text-align: right;\">\n",
       "      <th></th>\n",
       "      <th>contribution</th>\n",
       "      <th>chapter</th>\n",
       "      <th>chapter_title</th>\n",
       "      <th>contribution_id</th>\n",
       "      <th>speaker_name_lower</th>\n",
       "      <th>contribution_text</th>\n",
       "      <th>date</th>\n",
       "      <th>party</th>\n",
       "      <th>language</th>\n",
       "      <th>far_right</th>\n",
       "    </tr>\n",
       "  </thead>\n",
       "  <tbody>\n",
       "    <tr>\n",
       "      <th>0</th>\n",
       "      <td>KER ID=\"141\" NAME=\"Jean-Paul Gauzès\" AFFILIATI...</td>\n",
       "      <td>\"009-06\"</td>\n",
       "      <td>6. Innovative financing at a global and Europe...</td>\n",
       "      <td>11-03-08-\"141\"</td>\n",
       "      <td>jean-paul gauzès</td>\n",
       "      <td>(FR) Madam President, I regret that there is s...</td>\n",
       "      <td>11-03-08</td>\n",
       "      <td>PPE</td>\n",
       "      <td>NaN</td>\n",
       "      <td>0</td>\n",
       "    </tr>\n",
       "    <tr>\n",
       "      <th>1</th>\n",
       "      <td>KER ID=\"142\" NAME=\"Martin Schulz\" AFFILIATION=...</td>\n",
       "      <td>\"009-06\"</td>\n",
       "      <td>6. Innovative financing at a global and Europe...</td>\n",
       "      <td>11-03-08-\"142\"</td>\n",
       "      <td>martin schulz</td>\n",
       "      <td>(DE) Madam President, I can tell Mr Gauzès thi...</td>\n",
       "      <td>11-03-08</td>\n",
       "      <td>S&amp;D</td>\n",
       "      <td>NaN</td>\n",
       "      <td>0</td>\n",
       "    </tr>\n",
       "    <tr>\n",
       "      <th>2</th>\n",
       "      <td>KER ID=\"143\" NAME=\"Rodi Kratsa-Tsagaropoulou\" ...</td>\n",
       "      <td>\"009-06\"</td>\n",
       "      <td>6. Innovative financing at a global and Europe...</td>\n",
       "      <td>11-03-08-\"143\"</td>\n",
       "      <td>rodi kratsa-tsagaropoulou</td>\n",
       "      <td>(EL) Madam President, yesterday in plenary, th...</td>\n",
       "      <td>11-03-08</td>\n",
       "      <td>PPE</td>\n",
       "      <td>NaN</td>\n",
       "      <td>0</td>\n",
       "    </tr>\n",
       "    <tr>\n",
       "      <th>3</th>\n",
       "      <td>KER ID=\"183\" NAME=\"Sepp Kusstatscher\" AFFILIAT...</td>\n",
       "      <td>\"011\"</td>\n",
       "      <td>Development of the Community's railways  Certi...</td>\n",
       "      <td>07-01-17-\"183\"</td>\n",
       "      <td>sepp kusstatscher</td>\n",
       "      <td>- (DE) Mr President, ladies and gentlemen, I a...</td>\n",
       "      <td>07-01-17</td>\n",
       "      <td>Verts/ALE</td>\n",
       "      <td>NaN</td>\n",
       "      <td>0</td>\n",
       "    </tr>\n",
       "    <tr>\n",
       "      <th>4</th>\n",
       "      <td>KER ID=\"184\" NAME=\"Pedro Guerreiro\" AFFILIATIO...</td>\n",
       "      <td>\"011\"</td>\n",
       "      <td>Development of the Community's railways  Certi...</td>\n",
       "      <td>07-01-17-\"184\"</td>\n",
       "      <td>pedro guerreiro</td>\n",
       "      <td>(PT) Once again, the majority in Parliament is...</td>\n",
       "      <td>07-01-17</td>\n",
       "      <td>GUE/NGL</td>\n",
       "      <td>NaN</td>\n",
       "      <td>0</td>\n",
       "    </tr>\n",
       "    <tr>\n",
       "      <th>...</th>\n",
       "      <td>...</td>\n",
       "      <td>...</td>\n",
       "      <td>...</td>\n",
       "      <td>...</td>\n",
       "      <td>...</td>\n",
       "      <td>...</td>\n",
       "      <td>...</td>\n",
       "      <td>...</td>\n",
       "      <td>...</td>\n",
       "      <td>...</td>\n",
       "    </tr>\n",
       "    <tr>\n",
       "      <th>142651</th>\n",
       "      <td>KER ID=244 NAME=\"Gillis\"&gt;\\nMadam President, I ...</td>\n",
       "      <td>10</td>\n",
       "      <td>Marketing of seeds - Implementation of Regulat...</td>\n",
       "      <td>98-05-14-244</td>\n",
       "      <td>gillis</td>\n",
       "      <td>Madam President, I would first of all like to ...</td>\n",
       "      <td>98-05-14</td>\n",
       "      <td>[\"European People's Party\", \"European People's...</td>\n",
       "      <td>NaN</td>\n",
       "      <td>0</td>\n",
       "    </tr>\n",
       "    <tr>\n",
       "      <th>142652</th>\n",
       "      <td>KER ID=245 LANGUAGE=\"DA\" NAME=\"Iversen\"&gt;\\nMada...</td>\n",
       "      <td>10</td>\n",
       "      <td>Marketing of seeds - Implementation of Regulat...</td>\n",
       "      <td>98-05-14-245</td>\n",
       "      <td>iversen</td>\n",
       "      <td>Madam President, I would like to begin by than...</td>\n",
       "      <td>98-05-14</td>\n",
       "      <td>['Socialist Group', 'Party of European Sociali...</td>\n",
       "      <td>DA</td>\n",
       "      <td>0</td>\n",
       "    </tr>\n",
       "    <tr>\n",
       "      <th>142653</th>\n",
       "      <td>KER ID=246 LANGUAGE=\"SV\" NAME=\"Wibe\"&gt;\\nMadam P...</td>\n",
       "      <td>10</td>\n",
       "      <td>Marketing of seeds - Implementation of Regulat...</td>\n",
       "      <td>98-05-14-246</td>\n",
       "      <td>wibe</td>\n",
       "      <td>Madam President, in Amendment No 1 the rapport...</td>\n",
       "      <td>98-05-14</td>\n",
       "      <td>['Socialist Group', 'Party of European Sociali...</td>\n",
       "      <td>SV</td>\n",
       "      <td>0</td>\n",
       "    </tr>\n",
       "    <tr>\n",
       "      <th>142654</th>\n",
       "      <td>KER ID=249 NAME=\"Graefe zu Baringdorf\"&gt;\\nMadam...</td>\n",
       "      <td>10</td>\n",
       "      <td>Marketing of seeds - Implementation of Regulat...</td>\n",
       "      <td>98-05-14-249</td>\n",
       "      <td>graefe zu baringdorf</td>\n",
       "      <td>Madam President, I should like briefly to pick...</td>\n",
       "      <td>98-05-14</td>\n",
       "      <td>['Green Group', 'Greens/European Free Alliance']</td>\n",
       "      <td>NaN</td>\n",
       "      <td>0</td>\n",
       "    </tr>\n",
       "    <tr>\n",
       "      <th>142655</th>\n",
       "      <td>KER ID=\"339\" NAME=\"Elmar Brok\"&gt;\\nrapporteur. -...</td>\n",
       "      <td>\"014\"</td>\n",
       "      <td>The Commission's 2007 enlargement strategy pap...</td>\n",
       "      <td>08-07-09-\"339\"</td>\n",
       "      <td>elmar brok</td>\n",
       "      <td>rapporteur. - (DE) Mr President, Commissioner,...</td>\n",
       "      <td>08-07-09</td>\n",
       "      <td>European People's Party Group</td>\n",
       "      <td>NaN</td>\n",
       "      <td>0</td>\n",
       "    </tr>\n",
       "  </tbody>\n",
       "</table>\n",
       "<p>142656 rows × 10 columns</p>\n",
       "</div>"
      ],
      "text/plain": [
       "                                             contribution   chapter  \\\n",
       "0       KER ID=\"141\" NAME=\"Jean-Paul Gauzès\" AFFILIATI...  \"009-06\"   \n",
       "1       KER ID=\"142\" NAME=\"Martin Schulz\" AFFILIATION=...  \"009-06\"   \n",
       "2       KER ID=\"143\" NAME=\"Rodi Kratsa-Tsagaropoulou\" ...  \"009-06\"   \n",
       "3       KER ID=\"183\" NAME=\"Sepp Kusstatscher\" AFFILIAT...     \"011\"   \n",
       "4       KER ID=\"184\" NAME=\"Pedro Guerreiro\" AFFILIATIO...     \"011\"   \n",
       "...                                                   ...       ...   \n",
       "142651  KER ID=244 NAME=\"Gillis\">\\nMadam President, I ...        10   \n",
       "142652  KER ID=245 LANGUAGE=\"DA\" NAME=\"Iversen\">\\nMada...        10   \n",
       "142653  KER ID=246 LANGUAGE=\"SV\" NAME=\"Wibe\">\\nMadam P...        10   \n",
       "142654  KER ID=249 NAME=\"Graefe zu Baringdorf\">\\nMadam...        10   \n",
       "142655  KER ID=\"339\" NAME=\"Elmar Brok\">\\nrapporteur. -...     \"014\"   \n",
       "\n",
       "                                            chapter_title contribution_id  \\\n",
       "0       6. Innovative financing at a global and Europe...  11-03-08-\"141\"   \n",
       "1       6. Innovative financing at a global and Europe...  11-03-08-\"142\"   \n",
       "2       6. Innovative financing at a global and Europe...  11-03-08-\"143\"   \n",
       "3       Development of the Community's railways  Certi...  07-01-17-\"183\"   \n",
       "4       Development of the Community's railways  Certi...  07-01-17-\"184\"   \n",
       "...                                                   ...             ...   \n",
       "142651  Marketing of seeds - Implementation of Regulat...    98-05-14-244   \n",
       "142652  Marketing of seeds - Implementation of Regulat...    98-05-14-245   \n",
       "142653  Marketing of seeds - Implementation of Regulat...    98-05-14-246   \n",
       "142654  Marketing of seeds - Implementation of Regulat...    98-05-14-249   \n",
       "142655  The Commission's 2007 enlargement strategy pap...  08-07-09-\"339\"   \n",
       "\n",
       "               speaker_name_lower  \\\n",
       "0                jean-paul gauzès   \n",
       "1                   martin schulz   \n",
       "2       rodi kratsa-tsagaropoulou   \n",
       "3               sepp kusstatscher   \n",
       "4                 pedro guerreiro   \n",
       "...                           ...   \n",
       "142651                     gillis   \n",
       "142652                    iversen   \n",
       "142653                       wibe   \n",
       "142654       graefe zu baringdorf   \n",
       "142655                 elmar brok   \n",
       "\n",
       "                                        contribution_text      date  \\\n",
       "0       (FR) Madam President, I regret that there is s...  11-03-08   \n",
       "1       (DE) Madam President, I can tell Mr Gauzès thi...  11-03-08   \n",
       "2       (EL) Madam President, yesterday in plenary, th...  11-03-08   \n",
       "3       - (DE) Mr President, ladies and gentlemen, I a...  07-01-17   \n",
       "4       (PT) Once again, the majority in Parliament is...  07-01-17   \n",
       "...                                                   ...       ...   \n",
       "142651  Madam President, I would first of all like to ...  98-05-14   \n",
       "142652  Madam President, I would like to begin by than...  98-05-14   \n",
       "142653  Madam President, in Amendment No 1 the rapport...  98-05-14   \n",
       "142654  Madam President, I should like briefly to pick...  98-05-14   \n",
       "142655  rapporteur. - (DE) Mr President, Commissioner,...  08-07-09   \n",
       "\n",
       "                                                    party language  far_right  \n",
       "0                                                     PPE      NaN          0  \n",
       "1                                                     S&D      NaN          0  \n",
       "2                                                     PPE      NaN          0  \n",
       "3                                               Verts/ALE      NaN          0  \n",
       "4                                                 GUE/NGL      NaN          0  \n",
       "...                                                   ...      ...        ...  \n",
       "142651  [\"European People's Party\", \"European People's...      NaN          0  \n",
       "142652  ['Socialist Group', 'Party of European Sociali...       DA          0  \n",
       "142653  ['Socialist Group', 'Party of European Sociali...       SV          0  \n",
       "142654   ['Green Group', 'Greens/European Free Alliance']      NaN          0  \n",
       "142655                      European People's Party Group      NaN          0  \n",
       "\n",
       "[142656 rows x 10 columns]"
      ]
     },
     "execution_count": 5,
     "metadata": {},
     "output_type": "execute_result"
    }
   ],
   "source": [
    "data"
   ]
  },
  {
   "cell_type": "code",
   "execution_count": 6,
   "id": "8abbaac9",
   "metadata": {},
   "outputs": [],
   "source": [
    "#split data into train and test sets\n",
    "X = data[['contribution_text']]\n",
    "y = data['far_right']\n",
    "X_train, X_test, y_train, y_test = train_test_split(X, y, test_size=0.3)\n",
    "train = X_train.join(y_train)\n",
    "test = X_test.join(y_test)"
   ]
  },
  {
   "cell_type": "markdown",
   "id": "3d1926b3",
   "metadata": {},
   "source": [
    "## Downsampling test data"
   ]
  },
  {
   "cell_type": "code",
   "execution_count": 8,
   "id": "2553345a",
   "metadata": {},
   "outputs": [],
   "source": [
    "#rename train data as data and run the following code\n",
    "data = test"
   ]
  },
  {
   "cell_type": "code",
   "execution_count": 10,
   "id": "f9210753",
   "metadata": {},
   "outputs": [
    {
     "name": "stdout",
     "output_type": "stream",
     "text": [
      "35316,7481\n"
     ]
    }
   ],
   "source": [
    "category_0 = data[data['far_right'] == 0]\n",
    "category_1 = data[data['far_right'] == 1]\n",
    "print(f\"{len(category_0)},{len(category_1)}\")"
   ]
  },
  {
   "cell_type": "code",
   "execution_count": 12,
   "id": "d0b8e6b3",
   "metadata": {},
   "outputs": [
    {
     "data": {
      "text/plain": [
       "0    7481\n",
       "1    7481\n",
       "Name: far_right, dtype: int64"
      ]
     },
     "execution_count": 12,
     "metadata": {},
     "output_type": "execute_result"
    }
   ],
   "source": [
    "cat_0_sample = category_0.sample(len(category_1))\n",
    "d_sample = pd.concat([cat_0_sample, category_1], axis=0)\n",
    "d_sample['far_right'].value_counts()"
   ]
  },
  {
   "cell_type": "code",
   "execution_count": 13,
   "id": "51bc0964",
   "metadata": {},
   "outputs": [],
   "source": [
    "#save test set to csv file\n",
    "test.to_csv(f\"{path}/test.csv\")"
   ]
  },
  {
   "cell_type": "markdown",
   "id": "5617b041",
   "metadata": {},
   "source": [
    "## Downsampling"
   ]
  },
  {
   "cell_type": "code",
   "execution_count": null,
   "id": "5fa12573",
   "metadata": {},
   "outputs": [],
   "source": [
    "#rename train data as data and run the following code\n",
    "data = train"
   ]
  },
  {
   "cell_type": "code",
   "execution_count": 197,
   "id": "02a6ef5d",
   "metadata": {},
   "outputs": [
    {
     "name": "stdout",
     "output_type": "stream",
     "text": [
      "82341,17518\n"
     ]
    }
   ],
   "source": [
    "#split data into two groups based on y variable\n",
    "category_0 = data[data['far_right'] == 0]\n",
    "category_1 = data[data['far_right'] == 1]\n",
    "print(f\"{len(category_0)},{len(category_1)}\")"
   ]
  },
  {
   "cell_type": "code",
   "execution_count": 198,
   "id": "7433ad37",
   "metadata": {},
   "outputs": [
    {
     "data": {
      "text/plain": [
       "0    35036\n",
       "1    17518\n",
       "Name: far_right, dtype: int64"
      ]
     },
     "execution_count": 198,
     "metadata": {},
     "output_type": "execute_result"
    }
   ],
   "source": [
    "#take sample of y=0 in order to downsample and create better balance between features\n",
    "cat_0_sample = category_0.sample(len(category_1)*2)\n",
    "d_sample = pd.concat([cat_0_sample, category_1], axis=0)\n",
    "d_sample['far_right'].value_counts()"
   ]
  },
  {
   "cell_type": "code",
   "execution_count": 217,
   "id": "a8c86334",
   "metadata": {},
   "outputs": [],
   "source": [
    "#save to csv\n",
    "#d_sample.to_csv(f\"{path}/downsample.csv\")"
   ]
  },
  {
   "cell_type": "markdown",
   "id": "9163aaa5",
   "metadata": {},
   "source": [
    "## Upsampling "
   ]
  },
  {
   "cell_type": "code",
   "execution_count": 200,
   "id": "656f6f11",
   "metadata": {},
   "outputs": [],
   "source": [
    "cat_1_usample = pd.concat([category_1, category_1], axis = 0)\n",
    "u_sample_1 = pd.concat([cat_1_usample, cat_1_usample])"
   ]
  },
  {
   "cell_type": "code",
   "execution_count": 201,
   "id": "be030d02",
   "metadata": {},
   "outputs": [],
   "source": [
    "u_sample = pd.concat([u_sample_1, category_0], axis = 0)"
   ]
  },
  {
   "cell_type": "code",
   "execution_count": 216,
   "id": "7a468091",
   "metadata": {},
   "outputs": [],
   "source": [
    "#save to csv\n",
    "#u_sample.to_csv(f\"{path}/upsample.csv\")"
   ]
  },
  {
   "cell_type": "markdown",
   "id": "72d60c9a",
   "metadata": {},
   "source": [
    "## Synthetic Sampling"
   ]
  },
  {
   "cell_type": "markdown",
   "id": "446b0339",
   "metadata": {},
   "source": [
    "In this step, we split each contribution into individual sentences and try to create new observations from these sentences that are shorter in length, but thus more plentiful than the previous subsets of the data for which far_right = 1. "
   ]
  },
  {
   "cell_type": "code",
   "execution_count": 203,
   "id": "77ccb56b",
   "metadata": {},
   "outputs": [],
   "source": [
    "#get a list of all sentences in the data set\n",
    "list_of_sentences = []\n",
    "\n",
    "for i in category_1.contribution_text:\n",
    "    k = nltk.tokenize.sent_tokenize(i)\n",
    "    for j in k:\n",
    "        list_of_sentences.append(j)"
   ]
  },
  {
   "cell_type": "code",
   "execution_count": 204,
   "id": "3c614095",
   "metadata": {},
   "outputs": [
    {
     "data": {
      "text/plain": [
       "185428"
      ]
     },
     "execution_count": 204,
     "metadata": {},
     "output_type": "execute_result"
    }
   ],
   "source": [
    "#check how many sentences are present in the data set\n",
    "len(list_of_sentences)"
   ]
  },
  {
   "cell_type": "code",
   "execution_count": 205,
   "id": "fa602f70",
   "metadata": {},
   "outputs": [
    {
     "data": {
      "text/plain": [
       "10.58499828747574"
      ]
     },
     "execution_count": 205,
     "metadata": {},
     "output_type": "execute_result"
    }
   ],
   "source": [
    "#check average number of sentences per contribution\n",
    "len(list_of_sentences) / len(category_1)"
   ]
  },
  {
   "cell_type": "code",
   "execution_count": 206,
   "id": "a65607fd",
   "metadata": {},
   "outputs": [
    {
     "data": {
      "text/plain": [
       "1472.9630665601096"
      ]
     },
     "execution_count": 206,
     "metadata": {},
     "output_type": "execute_result"
    }
   ],
   "source": [
    "#check average number of characters per contribution\n",
    "avg_length = np.mean(category_1.contribution_text.map(len))\n",
    "avg_length"
   ]
  },
  {
   "cell_type": "code",
   "execution_count": 207,
   "id": "8ec9fd55",
   "metadata": {},
   "outputs": [],
   "source": [
    "#randomize list of sentences\n",
    "random_list_of_sentences = random.sample(list_of_sentences, len(list_of_sentences))"
   ]
  },
  {
   "cell_type": "code",
   "execution_count": 208,
   "id": "3b9676af",
   "metadata": {},
   "outputs": [],
   "source": [
    "#create a dictionary that reassembles sentences and synthesizes new observations -- triple number of obs where far_right = 1\n",
    "\n",
    "synth_dict = {}\n",
    "list_of_charcounts = []\n",
    "\n",
    "for i in range(len(category_1) * 3):\n",
    "    sample = []\n",
    "    char_count = 0\n",
    "    for j in range(10):\n",
    "        rand_idx = random.randint(0, len(category_1)-1)\n",
    "        sentence = random_list_of_sentences[rand_idx]\n",
    "        sample.append(sentence)\n",
    "        char_count += len(sentence)\n",
    "    if char_count < avg_length:\n",
    "        rand_idx = random.randint(0, len(category_1)-1)\n",
    "        sample.append(random_list_of_sentences[rand_idx])\n",
    "        char_count += len(random_list_of_sentences[rand_idx])\n",
    "    list_of_charcounts.append(char_count)\n",
    "    synth_dict[i] = [sample]"
   ]
  },
  {
   "cell_type": "code",
   "execution_count": 209,
   "id": "1ac1770d",
   "metadata": {},
   "outputs": [
    {
     "data": {
      "text/plain": [
       "1.2887696464588316"
      ]
     },
     "execution_count": 209,
     "metadata": {},
     "output_type": "execute_result"
    }
   ],
   "source": [
    "#check difference in average number of characters per observation\n",
    "avg_length - np.mean(list_of_charcounts)"
   ]
  },
  {
   "cell_type": "code",
   "execution_count": 210,
   "id": "8a30da1f",
   "metadata": {},
   "outputs": [],
   "source": [
    "#create dataframe based on the synth sample dictionary\n",
    "s_sample_1 = pd.DataFrame.from_dict(synth_dict).T\n",
    "s_sample_1['far_right'] = 1\n",
    "s_sample_1 = s_sample_1.rename(columns = {0: 'contribution_text'})"
   ]
  },
  {
   "cell_type": "code",
   "execution_count": 211,
   "id": "365f580a",
   "metadata": {},
   "outputs": [],
   "source": [
    "#shorten cat_0 data frame to be able to concat later on\n",
    "cat_0_short = category_0[['contribution_text', 'far_right']]"
   ]
  },
  {
   "cell_type": "code",
   "execution_count": 212,
   "id": "0900ae77",
   "metadata": {},
   "outputs": [],
   "source": [
    "#concatenate newly synthesized rows with previously existing rows where far_right = 0, shuffle and reset index\n",
    "s_sample = pd.concat([cat_0_short, s_sample_1], axis = 0)\n",
    "s_sample = s_sample.sample(frac = 1)\n",
    "s_sample.reset_index(drop=True, inplace = True)"
   ]
  },
  {
   "cell_type": "code",
   "execution_count": 213,
   "id": "093c348f",
   "metadata": {},
   "outputs": [
    {
     "data": {
      "text/plain": [
       "0    82341\n",
       "1    52554\n",
       "Name: far_right, dtype: int64"
      ]
     },
     "execution_count": 213,
     "metadata": {},
     "output_type": "execute_result"
    }
   ],
   "source": [
    "#check value counts of far_right column\n",
    "s_sample['far_right'].value_counts()"
   ]
  },
  {
   "cell_type": "code",
   "execution_count": 215,
   "id": "f586d9ff",
   "metadata": {},
   "outputs": [],
   "source": [
    "#save dataframe to csv\n",
    "#s_sample.to_csv(f\"{path}/synthsample.csv\")"
   ]
  }
 ],
 "metadata": {
  "kernelspec": {
   "display_name": "Python 3 (ipykernel)",
   "language": "python",
   "name": "python3"
  },
  "language_info": {
   "codemirror_mode": {
    "name": "ipython",
    "version": 3
   },
   "file_extension": ".py",
   "mimetype": "text/x-python",
   "name": "python",
   "nbconvert_exporter": "python",
   "pygments_lexer": "ipython3",
   "version": "3.10.6"
  },
  "toc": {
   "base_numbering": 1,
   "nav_menu": {},
   "number_sections": true,
   "sideBar": true,
   "skip_h1_title": false,
   "title_cell": "Table of Contents",
   "title_sidebar": "Contents",
   "toc_cell": false,
   "toc_position": {},
   "toc_section_display": true,
   "toc_window_display": false
  }
 },
 "nbformat": 4,
 "nbformat_minor": 5
}
