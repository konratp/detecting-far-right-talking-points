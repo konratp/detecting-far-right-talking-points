{
 "cells": [
  {
   "cell_type": "markdown",
   "id": "b2c2fd71",
   "metadata": {},
   "source": [
    "# Preprocessing (for ML model)"
   ]
  },
  {
   "cell_type": "markdown",
   "id": "fa854282",
   "metadata": {},
   "source": [
    "## Loading data"
   ]
  },
  {
   "cell_type": "markdown",
   "id": "3c9a2abc",
   "metadata": {},
   "source": [
    "## Cleaning"
   ]
  },
  {
   "cell_type": "markdown",
   "id": "a1a21d28",
   "metadata": {},
   "source": [
    "### NaNs"
   ]
  },
  {
   "cell_type": "markdown",
   "id": "d74dfa02",
   "metadata": {},
   "source": [
    "### Removing punctuation etc."
   ]
  },
  {
   "cell_type": "markdown",
   "id": "e52cdfdd",
   "metadata": {},
   "source": [
    "### Token/Lemm"
   ]
  },
  {
   "cell_type": "markdown",
   "id": "f1ec5366",
   "metadata": {},
   "source": [
    "## Saving clean data"
   ]
  }
 ],
 "metadata": {
  "kernelspec": {
   "display_name": "Python 3 (ipykernel)",
   "language": "python",
   "name": "python3"
  },
  "language_info": {
   "codemirror_mode": {
    "name": "ipython",
    "version": 3
   },
   "file_extension": ".py",
   "mimetype": "text/x-python",
   "name": "python",
   "nbconvert_exporter": "python",
   "pygments_lexer": "ipython3",
   "version": "3.10.6"
  },
  "toc": {
   "base_numbering": 1,
   "nav_menu": {},
   "number_sections": true,
   "sideBar": true,
   "skip_h1_title": false,
   "title_cell": "Table of Contents",
   "title_sidebar": "Contents",
   "toc_cell": false,
   "toc_position": {},
   "toc_section_display": true,
   "toc_window_display": false
  }
 },
 "nbformat": 4,
 "nbformat_minor": 5
}
