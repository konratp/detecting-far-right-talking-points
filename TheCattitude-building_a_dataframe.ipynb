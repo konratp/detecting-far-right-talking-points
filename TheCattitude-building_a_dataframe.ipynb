{
 "cells": [
  {
   "cell_type": "code",
   "execution_count": 11,
   "id": "027674a9",
   "metadata": {},
   "outputs": [],
   "source": [
    "import matplotlib.pyplot as plt\n",
    "import seaborn as sns\n",
    "import numpy as np\n",
    "import pandas as pd\n",
    "import nltk\n",
    "import os"
   ]
  },
  {
   "cell_type": "markdown",
   "id": "7ca88b17",
   "metadata": {},
   "source": [
    "Sample Dataframe structure we want to end up with:"
   ]
  },
  {
   "cell_type": "code",
   "execution_count": 10,
   "id": "b2d775fd",
   "metadata": {},
   "outputs": [
    {
     "data": {
      "text/html": [
       "<div>\n",
       "<style scoped>\n",
       "    .dataframe tbody tr th:only-of-type {\n",
       "        vertical-align: middle;\n",
       "    }\n",
       "\n",
       "    .dataframe tbody tr th {\n",
       "        vertical-align: top;\n",
       "    }\n",
       "\n",
       "    .dataframe thead th {\n",
       "        text-align: right;\n",
       "    }\n",
       "</style>\n",
       "<table border=\"1\" class=\"dataframe\">\n",
       "  <thead>\n",
       "    <tr style=\"text-align: right;\">\n",
       "      <th></th>\n",
       "      <th>contribution_id</th>\n",
       "      <th>speaker_id</th>\n",
       "      <th>name</th>\n",
       "      <th>language</th>\n",
       "      <th>party_affiliation</th>\n",
       "      <th>paragraph_text</th>\n",
       "      <th>chapter</th>\n",
       "      <th>date</th>\n",
       "      <th>right_wing</th>\n",
       "    </tr>\n",
       "  </thead>\n",
       "  <tbody>\n",
       "    <tr>\n",
       "      <th>0</th>\n",
       "      <td>00-01-17-2</td>\n",
       "      <td>2</td>\n",
       "      <td>Evans, Robert J</td>\n",
       "      <td>en</td>\n",
       "      <td>unknown</td>\n",
       "      <td>Madam President, on a point of order. You will...</td>\n",
       "      <td>this is the topic written after the keyword CH...</td>\n",
       "      <td>00-01-17</td>\n",
       "      <td>0</td>\n",
       "    </tr>\n",
       "  </tbody>\n",
       "</table>\n",
       "</div>"
      ],
      "text/plain": [
       "  contribution_id  speaker_id             name language party_affiliation  \\\n",
       "0      00-01-17-2           2  Evans, Robert J       en           unknown   \n",
       "\n",
       "                                      paragraph_text  \\\n",
       "0  Madam President, on a point of order. You will...   \n",
       "\n",
       "                                             chapter      date  right_wing  \n",
       "0  this is the topic written after the keyword CH...  00-01-17           0  "
      ]
     },
     "execution_count": 10,
     "metadata": {},
     "output_type": "execute_result"
    }
   ],
   "source": [
    "data = {\n",
    "    \"contribution_id\": [\"00-01-17-2\"],\n",
    "    \"speaker_id\": [2],\n",
    "    \"name\": [\"Evans, Robert J\"],\n",
    "    \"language\": [\"en\"],\n",
    "    \"party_affiliation\": [\"unknown\"],\n",
    "    \"paragraph_text\": [\"Madam President, on a point of order. You will be aware from the press and television that there have been a number of bomb explosions and killings in Sri Lanka. One of the people assassinated very recently in Sri Lanka was Mr Kumar Ponnambalam, who had visited the European Parliament just a few months ago. Would it be appropriate for you, Madam President, to write a letter to the Sri Lankan President expressing Parliament's regret at his and the other violent deaths in Sri Lanka and urging her to do everything she possibly can to seek a peaceful reconciliation to a very difficult situation?\"],\n",
    "    \"chapter\": [\"this is the topic written after the keyword CHAPTER\"],\n",
    "    \"date\": [\"00-01-17\"],\n",
    "    \"right_wing\": [0]\n",
    "}\n",
    "\n",
    "df = pd.DataFrame(data)\n",
    "df.head()"
   ]
  },
  {
   "cell_type": "markdown",
   "id": "5843671a",
   "metadata": {},
   "source": [
    "contribution_id = date + speaker_id\n",
    "to be used as an index"
   ]
  },
  {
   "cell_type": "code",
   "execution_count": 12,
   "id": "54808a1a",
   "metadata": {},
   "outputs": [],
   "source": [
    "path = f\"{os.getcwd()}/data_sample\""
   ]
  },
  {
   "cell_type": "code",
   "execution_count": 13,
   "id": "e87f7a95",
   "metadata": {},
   "outputs": [
    {
     "ename": "FileNotFoundError",
     "evalue": "[Errno 2] No such file or directory: '/Users/viktoriabentley/code/konratp/detecting-far-right-talking-points/data_sample'",
     "output_type": "error",
     "traceback": [
      "\u001b[0;31m---------------------------------------------------------------------------\u001b[0m",
      "\u001b[0;31mFileNotFoundError\u001b[0m                         Traceback (most recent call last)",
      "Cell \u001b[0;32mIn [13], line 1\u001b[0m\n\u001b[0;32m----> 1\u001b[0m \u001b[43mos\u001b[49m\u001b[38;5;241;43m.\u001b[39;49m\u001b[43mlistdir\u001b[49m\u001b[43m(\u001b[49m\u001b[43mpath\u001b[49m\u001b[43m)\u001b[49m\n",
      "\u001b[0;31mFileNotFoundError\u001b[0m: [Errno 2] No such file or directory: '/Users/viktoriabentley/code/konratp/detecting-far-right-talking-points/data_sample'"
     ]
    }
   ],
   "source": [
    "\n",
    "os.listdir(path)"
   ]
  }
 ],
 "metadata": {
  "kernelspec": {
   "display_name": "Python 3 (ipykernel)",
   "language": "python",
   "name": "python3"
  },
  "language_info": {
   "codemirror_mode": {
    "name": "ipython",
    "version": 3
   },
   "file_extension": ".py",
   "mimetype": "text/x-python",
   "name": "python",
   "nbconvert_exporter": "python",
   "pygments_lexer": "ipython3",
   "version": "3.10.6"
  },
  "toc": {
   "base_numbering": 1,
   "nav_menu": {},
   "number_sections": true,
   "sideBar": true,
   "skip_h1_title": false,
   "title_cell": "Table of Contents",
   "title_sidebar": "Contents",
   "toc_cell": false,
   "toc_position": {},
   "toc_section_display": true,
   "toc_window_display": false
  }
 },
 "nbformat": 4,
 "nbformat_minor": 5
}
